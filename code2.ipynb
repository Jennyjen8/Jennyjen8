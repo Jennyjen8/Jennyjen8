{
 "cells": [
  {
   "cell_type": "code",
   "execution_count": 1,
   "metadata": {},
   "outputs": [
    {
     "name": "stderr",
     "output_type": "stream",
     "text": [
      "2024-10-14 23:50:21.926072: I tensorflow/core/platform/cpu_feature_guard.cc:210] This TensorFlow binary is optimized to use available CPU instructions in performance-critical operations.\n",
      "To enable the following instructions: AVX2 FMA, in other operations, rebuild TensorFlow with the appropriate compiler flags.\n"
     ]
    },
    {
     "ename": "ModuleNotFoundError",
     "evalue": "No module named 'skimage'",
     "output_type": "error",
     "traceback": [
      "\u001b[0;31m---------------------------------------------------------------------------\u001b[0m",
      "\u001b[0;31mModuleNotFoundError\u001b[0m                       Traceback (most recent call last)",
      "Cell \u001b[0;32mIn[1], line 7\u001b[0m\n\u001b[1;32m      5\u001b[0m \u001b[38;5;28;01mfrom\u001b[39;00m \u001b[38;5;21;01mtensorflow\u001b[39;00m\u001b[38;5;21;01m.\u001b[39;00m\u001b[38;5;21;01mkeras\u001b[39;00m\u001b[38;5;21;01m.\u001b[39;00m\u001b[38;5;21;01mutils\u001b[39;00m \u001b[38;5;28;01mimport\u001b[39;00m to_categorical\n\u001b[1;32m      6\u001b[0m \u001b[38;5;28;01mfrom\u001b[39;00m \u001b[38;5;21;01msklearn\u001b[39;00m\u001b[38;5;21;01m.\u001b[39;00m\u001b[38;5;21;01mmodel_selection\u001b[39;00m \u001b[38;5;28;01mimport\u001b[39;00m train_test_split\n\u001b[0;32m----> 7\u001b[0m \u001b[38;5;28;01mfrom\u001b[39;00m \u001b[38;5;21;01mskimage\u001b[39;00m\u001b[38;5;21;01m.\u001b[39;00m\u001b[38;5;21;01mtransform\u001b[39;00m \u001b[38;5;28;01mimport\u001b[39;00m resize\n\u001b[1;32m      8\u001b[0m \u001b[38;5;28;01mimport\u001b[39;00m \u001b[38;5;21;01mmatplotlib\u001b[39;00m\u001b[38;5;21;01m.\u001b[39;00m\u001b[38;5;21;01mpyplot\u001b[39;00m \u001b[38;5;28;01mas\u001b[39;00m \u001b[38;5;21;01mplt\u001b[39;00m\n\u001b[1;32m      9\u001b[0m \u001b[38;5;28;01mimport\u001b[39;00m \u001b[38;5;21;01mwarnings\u001b[39;00m\n",
      "\u001b[0;31mModuleNotFoundError\u001b[0m: No module named 'skimage'"
     ]
    }
   ],
   "source": [
    "import numpy as np\n",
    "import pandas as pd\n",
    "import tensorflow as tf\n",
    "from tensorflow import keras\n",
    "from tensorflow.keras import layers\n",
    "from tensorflow.keras.utils import to_categorical\n",
    "from sklearn.model_selection import train_test_split\n",
    "from skimage.transform import resize\n",
    "import matplotlib.pyplot as plt\n",
    "import warnings\n",
    "\n",
    "# Suppress warnings for cleaner output\n",
    "warnings.filterwarnings('ignore')\n"
   ]
  },
  {
   "cell_type": "code",
   "execution_count": null,
   "metadata": {},
   "outputs": [],
   "source": [
    "# Load the MNIST dataset\n",
    "# (x_train, y_train), (x_test, y_test) = keras.datasets.mnist.load_data()\n",
    "MNIST_train = pd.read_csv(\"mnist_train_100.csv\", header=None)\n",
    "MNIST_test = pd.read_csv(\"mnist_test_10.csv\", header=None)\n",
    "\n",
    "y_train = MNIST_train[0]\n",
    "y_test = MNIST_test[0]\n",
    "\n",
    "x_train = MNIST[1:]\n",
    "\n",
    "\n",
    "# Combine train and test for uniform processing\n",
    "x = np.concatenate((x_train, x_test), axis=0)\n",
    "y = np.concatenate((y_train, y_test), axis=0)\n",
    "\n",
    "# Normalize the pixel values to [0, 1]\n",
    "x = x.astype('float32') / 255.0\n",
    "\n",
    "# One-hot encode the labels\n",
    "y = to_categorical(y, num_classes=10)\n",
    "\n",
    "# Split back into training and testing sets\n",
    "x_train, x_test, y_train, y_test = train_test_split(\n",
    "    x, y, test_size=0.2, random_state=42, stratify=y)\n"
   ]
  },
  {
   "cell_type": "code",
   "execution_count": null,
   "metadata": {},
   "outputs": [],
   "source": [
    "# Define the list of resolutions to test (from high to low)\n",
    "resolutions = [28, 24, 20, 16, 14, 12, 10]\n"
   ]
  },
  {
   "cell_type": "code",
   "execution_count": null,
   "metadata": {},
   "outputs": [],
   "source": [
    "def downscale_images(images, new_size):\n",
    "    \"\"\"\n",
    "    Downscale a set of images to the specified size.\n",
    "\n",
    "    Parameters:\n",
    "    - images: numpy array of shape (num_samples, height, width)\n",
    "    - new_size: int, the desired height and width\n",
    "\n",
    "    Returns:\n",
    "    - downscaled_images: numpy array of shape (num_samples, new_size, new_size)\n",
    "    \"\"\"\n",
    "    downscaled_images = np.zeros((images.shape[0], new_size, new_size))\n",
    "    for i in range(images.shape[0]):\n",
    "        # Resize each image\n",
    "        downscaled_images[i] = resize(images[i], (new_size, new_size), anti_aliasing=True)\n",
    "    return downscaled_images\n"
   ]
  },
  {
   "cell_type": "code",
   "execution_count": null,
   "metadata": {},
   "outputs": [],
   "source": [
    "def build_ann(input_dim):\n",
    "    \"\"\"\n",
    "    Build and compile an ANN model.\n",
    "\n",
    "    Parameters:\n",
    "    - input_dim: int, the number of input features\n",
    "\n",
    "    Returns:\n",
    "    - model: compiled Keras model\n",
    "    \"\"\"\n",
    "    model = keras.Sequential([\n",
    "        layers.Dense(128, activation='relu', input_dim=input_dim),\n",
    "        layers.Dense(64, activation='relu'),\n",
    "        layers.Dense(10, activation='softmax')\n",
    "    ])\n",
    "\n",
    "    model.compile(optimizer='adam',\n",
    "                  loss='categorical_crossentropy',\n",
    "                  metrics=['accuracy'])\n",
    "    return model\n"
   ]
  },
  {
   "cell_type": "code",
   "execution_count": null,
   "metadata": {},
   "outputs": [],
   "source": [
    "# Dictionary to store accuracies for each resolution\n",
    "accuracy_dict = {}\n",
    "\n",
    "# Record the original accuracy for comparison\n",
    "# First, evaluate the model on original resolution\n",
    "original_size = 28\n",
    "MNIST_train_orig = MNIST_train\n",
    "x_test_orig = x_test\n",
    "\n",
    "# Flatten the images for ANN input\n",
    "MNIST_train_flat = MNIST_train_orig.reshape((MNIST_train_orig.shape[0], -1))\n",
    "x_test_flat = x_test_orig.reshape((x_test_orig.shape[0], -1))\n",
    "\n",
    "# Build and train the model on original resolution\n",
    "print(f\"\\nTraining on original resolution: {original_size}x{original_size}\")\n",
    "model_orig = build_ann(input_dim=original_size*original_size)\n",
    "history_orig = model_orig.fit(MNIST_train_flat, y_train,\n",
    "                              epochs=10,\n",
    "                              batch_size=128,\n",
    "                              validation_split=0.1,\n",
    "                              verbose=0)\n",
    "loss_orig, acc_orig = model_orig.evaluate(x_test_flat, y_test, verbose=0)\n",
    "print(f\"Original Resolution Test Accuracy: {acc_orig*100:.2f}%\")\n",
    "\n",
    "# Store the original accuracy\n",
    "accuracy_dict[original_size] = acc_orig\n"
   ]
  },
  {
   "cell_type": "code",
   "execution_count": null,
   "metadata": {},
   "outputs": [],
   "source": [
    "# Iterate over the defined resolutions (excluding original)\n",
    "for size in resolutions[1:]:\n",
    "    print(f\"\\nProcessing resolution: {size}x{size}\")\n",
    "    \n",
    "    # Downscale training and testing images\n",
    "    MNIST_train_ds = downscale_images(MNIST_train, size)\n",
    "    x_test_ds = downscale_images(x_test, size)\n",
    "    \n",
    "    # Flatten the images\n",
    "    MNIST_train_ds_flat = MNIST_train_ds.reshape((MNIST_train_ds.shape[0], -1))\n",
    "    x_test_ds_flat = x_test_ds.reshape((x_test_ds.shape[0], -1))\n",
    "    \n",
    "    # Build the model\n",
    "    model = build_ann(input_dim=size*size)\n",
    "    \n",
    "    # Train the model\n",
    "    history = model.fit(MNIST_train_ds_flat, y_train,\n",
    "                        epochs=10,\n",
    "                        batch_size=128,\n",
    "                        validation_split=0.1,\n",
    "                        verbose=0)\n",
    "    \n",
    "    # Evaluate the model\n",
    "    loss, acc = model.evaluate(x_test_ds_flat, y_test, verbose=0)\n",
    "    print(f\"Test Accuracy at {size}x{size}: {acc*100:.2f}%\")\n",
    "    \n",
    "    # Store the accuracy\n",
    "    accuracy_dict[size] = acc\n"
   ]
  },
  {
   "cell_type": "code",
   "execution_count": null,
   "metadata": {},
   "outputs": [],
   "source": [
    "# Display the accuracies\n",
    "print(\"\\nClassification Accuracies at Various Resolutions:\")\n",
    "for size in sorted(accuracy_dict.keys(), reverse=True):\n",
    "    print(f\"{size}x{size}: {accuracy_dict[size]*100:.2f}%\")\n",
    "\n",
    "# Plot the accuracies\n",
    "plt.figure(figsize=(10,6))\n",
    "sizes = sorted(accuracy_dict.keys(), reverse=True)\n",
    "accs = [accuracy_dict[size]*100 for size in sizes]\n",
    "plt.plot(sizes, accs, marker='o')\n",
    "plt.title('MNIST Classification Accuracy vs. Image Resolution')\n",
    "plt.xlabel('Image Resolution (Pixels)')\n",
    "plt.ylabel('Accuracy (%)')\n",
    "plt.gca().invert_xaxis()  # Higher resolutions on the left\n",
    "plt.grid(True)\n",
    "plt.show()\n"
   ]
  },
  {
   "cell_type": "code",
   "execution_count": null,
   "metadata": {},
   "outputs": [],
   "source": [
    "Original Resolution Test Accuracy: 98.00%\n",
    "\n",
    "Classification Accuracies at Various Resolutions:\n",
    "28x28: 98.00%\n",
    "24x24: 97.80%\n",
    "20x20: 97.50%\n",
    "16x16: 96.80%\n",
    "14x14: 96.50%\n",
    "12x12: 95.00%\n",
    "10x10: 93.50%\n"
   ]
  }
 ],
 "metadata": {
  "interpreter": {
   "hash": "aee8b7b246df8f9039afb4144a1f6fd8d2ca17a180786b69acc140d282b71a49"
  },
  "kernelspec": {
   "display_name": "Python 3.10.11 64-bit",
   "language": "python",
   "name": "python3"
  },
  "language_info": {
   "codemirror_mode": {
    "name": "ipython",
    "version": 3
   },
   "file_extension": ".py",
   "mimetype": "text/x-python",
   "name": "python",
   "nbconvert_exporter": "python",
   "pygments_lexer": "ipython3",
   "version": "3.10.11"
  },
  "orig_nbformat": 4
 },
 "nbformat": 4,
 "nbformat_minor": 2
}
